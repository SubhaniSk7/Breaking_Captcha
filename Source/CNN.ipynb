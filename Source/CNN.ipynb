{
 "cells": [
  {
   "cell_type": "code",
   "execution_count": 1,
   "metadata": {},
   "outputs": [
    {
     "name": "stderr",
     "output_type": "stream",
     "text": [
      "Using Theano backend.\n"
     ]
    }
   ],
   "source": [
    "import os\n",
    "os.environ['KERAS_BACKEND'] = 'theano'\n",
    "import keras"
   ]
  },
  {
   "cell_type": "code",
   "execution_count": 7,
   "metadata": {},
   "outputs": [
    {
     "name": "stderr",
     "output_type": "stream",
     "text": [
      "C:\\ProgramData\\Anaconda3\\lib\\site-packages\\ipykernel_launcher.py:31: DeprecationWarning: `imread` is deprecated!\n",
      "`imread` is deprecated in SciPy 1.0.0, and will be removed in 1.2.0.\n",
      "Use ``imageio.imread`` instead.\n"
     ]
    },
    {
     "name": "stdout",
     "output_type": "stream",
     "text": [
      "25000\n",
      "(25000, 26)\n"
     ]
    }
   ],
   "source": [
    "from scipy import misc\n",
    "import glob\n",
    "import numpy as np\n",
    "from sklearn.model_selection import train_test_split\n",
    "\n",
    "\n",
    "\n",
    "\n",
    "\n",
    "\n",
    "def format_output(l):\n",
    "    ret = []\n",
    "    for i in range(len(l)):\n",
    "        n = []\n",
    "        for j in range(26):\n",
    "            if j == l[i]:\n",
    "                n.append(1)\n",
    "            else:\n",
    "                n.append(0)\n",
    "        ret.append(np.array(n))\n",
    "    return np.array(ret)\n",
    "\n",
    "\n",
    "Data_images_list = []\n",
    "Data_labels_list = []\n",
    "\n",
    "\n",
    "for i in range(26):\n",
    "    name = str(i)\n",
    "    for image_path in glob.glob(\"C:/Users/SANDHU/Desktop/AI/Train_data/Train_data/\" + name + \"/*.jpg\"):\n",
    "        image = misc.imread(image_path)\n",
    "        Data_images_list.append(list(image))\n",
    "        Data_labels_list.append(i)\n",
    "\n",
    "print(len(Data_labels_list))\n",
    "\n",
    "Data_images = np.array(Data_images_list)\n",
    "Data_labels = format_output(Data_labels_list)\n",
    "\n",
    "print(Data_labels.shape)\n",
    "#CNN_data_list = []\n",
    "#CNN_labels_list = []\n",
    "\n",
    "\n",
    "#print(len(Data_images))\n",
    "#print(len(Data_labels))\n",
    "\n",
    "#for i in range(len(Data_images)):\n",
    " #   CNN_data_list.append(normalise(Data_images[i]))\n",
    "  #  CNN_labels_list.append(Data_labels[i])\n",
    "\n",
    "#CNN_data = np.array(CNN_data_list)\n",
    "#CNN_labels = np.array(CNN_labels_list)"
   ]
  },
  {
   "cell_type": "code",
   "execution_count": 3,
   "metadata": {},
   "outputs": [],
   "source": [
    "#CNN_labels.shape"
   ]
  },
  {
   "cell_type": "code",
   "execution_count": 4,
   "metadata": {},
   "outputs": [],
   "source": [
    "#CNN_data.shape"
   ]
  },
  {
   "cell_type": "code",
   "execution_count": 8,
   "metadata": {},
   "outputs": [],
   "source": [
    "x_train, x_test, y_train, y_test = train_test_split(Data_images, Data_labels, test_size = 0.2, shuffle = True)"
   ]
  },
  {
   "cell_type": "code",
   "execution_count": 9,
   "metadata": {},
   "outputs": [
    {
     "name": "stdout",
     "output_type": "stream",
     "text": [
      "(20000, 128, 128)\n",
      "(5000, 128, 128)\n",
      "(20000, 26)\n",
      "(5000, 26)\n"
     ]
    }
   ],
   "source": [
    "print(x_train.shape)\n",
    "print(x_test.shape)\n",
    "print(y_train.shape)\n",
    "print(y_test.shape)"
   ]
  },
  {
   "cell_type": "code",
   "execution_count": 10,
   "metadata": {},
   "outputs": [],
   "source": [
    "from keras.models import Sequential,Input,Model\n",
    "from keras.layers import Dense, Dropout, Flatten\n",
    "from keras.layers import Conv2D, MaxPooling2D\n",
    "from keras.layers.advanced_activations import LeakyReLU"
   ]
  },
  {
   "cell_type": "code",
   "execution_count": 11,
   "metadata": {},
   "outputs": [],
   "source": [
    "cnn = Sequential()"
   ]
  },
  {
   "cell_type": "code",
   "execution_count": 12,
   "metadata": {},
   "outputs": [],
   "source": [
    "\n",
    "\n",
    "cnn.add(Conv2D(40, kernel_size=(15, 15), strides=(1, 1),\n",
    "                 activation='relu',\n",
    "                 input_shape=(128,128,1)))\n",
    "cnn.add(LeakyReLU(alpha=0.1))\n",
    "cnn.add(MaxPooling2D(2, 2))\n",
    "\n",
    "cnn.add(Conv2D(80, kernel_size=(12, 12), strides=(1, 1),\n",
    "                 activation='relu'))\n",
    "#cnn.add(LeakyReLU(alpha=0.1))\n",
    "cnn.add(MaxPooling2D(2, 2))\n",
    "\n",
    "\n",
    "cnn.add(Conv2D(160, kernel_size=(8, 8), strides=(1, 1),\n",
    "                 activation='relu'))\n",
    "#cnn.add(LeakyReLU(alpha=0.1))\n",
    "cnn.add(MaxPooling2D(2, 2))\n",
    "\n",
    "\n",
    "cnn.add(Conv2D(80, kernel_size=(3, 3), strides=(1, 1),\n",
    "                 activation='relu'))\n",
    "#cnn.add(LeakyReLU(alpha=0.1))\n",
    "cnn.add(MaxPooling2D(2, 2))\n",
    "        \n",
    "    \n",
    "\n",
    "cnn.add(Flatten())\n",
    "\n",
    "cnn.add(Dense(1000, activation='relu'))\n",
    "cnn.add(Dense(100, activation='relu'))\n",
    "\n",
    "cnn.add(Dense(26, activation='softmax'))"
   ]
  },
  {
   "cell_type": "code",
   "execution_count": 13,
   "metadata": {},
   "outputs": [],
   "source": [
    "\n",
    "cnn.compile(loss=keras.losses.categorical_crossentropy,\n",
    "              optimizer=keras.optimizers.SGD(lr=0.01),\n",
    "              metrics=['accuracy'])\n"
   ]
  },
  {
   "cell_type": "code",
   "execution_count": 14,
   "metadata": {},
   "outputs": [
    {
     "name": "stdout",
     "output_type": "stream",
     "text": [
      "_________________________________________________________________\n",
      "Layer (type)                 Output Shape              Param #   \n",
      "=================================================================\n",
      "conv2d_1 (Conv2D)            (None, 114, 114, 40)      9040      \n",
      "_________________________________________________________________\n",
      "leaky_re_lu_1 (LeakyReLU)    (None, 114, 114, 40)      0         \n",
      "_________________________________________________________________\n",
      "max_pooling2d_1 (MaxPooling2 (None, 57, 57, 40)        0         \n",
      "_________________________________________________________________\n",
      "conv2d_2 (Conv2D)            (None, 46, 46, 80)        460880    \n",
      "_________________________________________________________________\n",
      "max_pooling2d_2 (MaxPooling2 (None, 23, 23, 80)        0         \n",
      "_________________________________________________________________\n",
      "conv2d_3 (Conv2D)            (None, 16, 16, 160)       819360    \n",
      "_________________________________________________________________\n",
      "max_pooling2d_3 (MaxPooling2 (None, 8, 8, 160)         0         \n",
      "_________________________________________________________________\n",
      "conv2d_4 (Conv2D)            (None, 6, 6, 80)          115280    \n",
      "_________________________________________________________________\n",
      "max_pooling2d_4 (MaxPooling2 (None, 3, 3, 80)          0         \n",
      "_________________________________________________________________\n",
      "flatten_1 (Flatten)          (None, 720)               0         \n",
      "_________________________________________________________________\n",
      "dense_1 (Dense)              (None, 1000)              721000    \n",
      "_________________________________________________________________\n",
      "dense_2 (Dense)              (None, 100)               100100    \n",
      "_________________________________________________________________\n",
      "dense_3 (Dense)              (None, 26)                2626      \n",
      "=================================================================\n",
      "Total params: 2,228,286\n",
      "Trainable params: 2,228,286\n",
      "Non-trainable params: 0\n",
      "_________________________________________________________________\n"
     ]
    }
   ],
   "source": [
    "cnn.summary()"
   ]
  },
  {
   "cell_type": "code",
   "execution_count": 12,
   "metadata": {},
   "outputs": [],
   "source": [
    "#print((x_train.T).shape)"
   ]
  },
  {
   "cell_type": "code",
   "execution_count": 13,
   "metadata": {},
   "outputs": [],
   "source": [
    "#print(x_train.T[:,:,0:1])"
   ]
  },
  {
   "cell_type": "code",
   "execution_count": 14,
   "metadata": {},
   "outputs": [],
   "source": [
    "#print(x_train[0])"
   ]
  },
  {
   "cell_type": "code",
   "execution_count": 15,
   "metadata": {},
   "outputs": [],
   "source": [
    "#x = x_train.reshape((18652,128,128,1))"
   ]
  },
  {
   "cell_type": "code",
   "execution_count": 16,
   "metadata": {},
   "outputs": [],
   "source": [
    "#print(x[0])"
   ]
  },
  {
   "cell_type": "code",
   "execution_count": 15,
   "metadata": {},
   "outputs": [
    {
     "name": "stdout",
     "output_type": "stream",
     "text": [
      "[[0. 0. 0. ... 0. 0. 0.]\n",
      " [0. 0. 0. ... 0. 0. 0.]\n",
      " [0. 0. 0. ... 0. 0. 0.]\n",
      " ...\n",
      " [0. 0. 0. ... 0. 0. 0.]\n",
      " [0. 0. 0. ... 0. 0. 0.]\n",
      " [0. 0. 0. ... 0. 0. 0.]]\n",
      "(16000, 128, 128)\n",
      "(4000, 128, 128)\n",
      "(16000, 26)\n",
      "(4000, 26)\n"
     ]
    }
   ],
   "source": [
    "x_data, x_valid , y_data, y_valid = train_test_split(x_train,y_train, test_size = 0.2)\n",
    "x_data = x_data.astype(float)\n",
    "\n",
    "x_valid = x_valid.astype(float)\n",
    "\n",
    "from sklearn.preprocessing import MinMaxScaler\n",
    "scaler = MinMaxScaler()\n",
    "for i in range(len(x_data)):\n",
    "    scaler.fit(x_data[i])\n",
    "    x_data[i] = scaler.transform(x_data[i])\n",
    "\n",
    "for i in range(len(x_valid)):\n",
    "    scaler.fit(x_valid[i])\n",
    "    x_valid[i] = scaler.transform(x_valid[i])\n",
    "\n",
    "print(x_data[0])\n",
    "\n",
    "\n",
    "print(x_data.shape)\n",
    "print(x_valid.shape)\n",
    "print(y_data.shape)\n",
    "print(y_valid.shape)"
   ]
  },
  {
   "cell_type": "code",
   "execution_count": 16,
   "metadata": {},
   "outputs": [
    {
     "data": {
      "text/plain": [
       "array([0.        , 0.00392157, 0.00784314, 0.01176471, 0.01568627,\n",
       "       0.01960784, 0.02352941, 0.02745098, 0.03137255, 0.03529412,\n",
       "       0.03921569, 0.04313725, 0.04705882, 0.05098039, 0.05490196,\n",
       "       0.05882353, 0.0627451 , 0.06666667, 0.06666667, 0.07058824,\n",
       "       0.0745098 , 0.07692308, 0.07843137, 0.08235294, 0.08627451,\n",
       "       0.09019608, 0.09411765, 0.09803922, 0.10196078, 0.10588235,\n",
       "       0.11111111, 0.11764706, 0.1254902 , 0.12941176, 0.13333333,\n",
       "       0.1372549 , 0.15789474, 0.16666667, 0.26666667, 0.33333333,\n",
       "       0.36842105, 0.38888889, 0.44444444, 0.46153846, 0.46666667,\n",
       "       0.5       , 0.53333333, 0.53846154, 0.55555556, 0.61111111,\n",
       "       0.61538462, 0.63157895, 0.66666667, 0.68421053, 0.69230769,\n",
       "       0.72222222, 0.73684211, 0.76923077, 0.77777778, 0.78947368,\n",
       "       0.8       , 0.83333333, 0.84210526, 0.84615385, 0.85490196,\n",
       "       0.86666667, 0.87843137, 0.88235294, 0.88627451, 0.88888889,\n",
       "       0.89019608, 0.89411765, 0.89473684, 0.90196078, 0.90588235,\n",
       "       0.90980392, 0.91372549, 0.91764706, 0.92156863, 0.92307692,\n",
       "       0.9254902 , 0.92941176, 0.93333333, 0.93333333, 0.9372549 ,\n",
       "       0.94117647, 0.94444444, 0.94509804, 0.94901961, 0.95294118,\n",
       "       0.95686275, 0.96078431, 0.96470588, 0.96862745, 0.97254902,\n",
       "       0.97647059, 0.98039216, 0.98431373, 0.98823529, 0.99215686,\n",
       "       0.99607843, 1.        ])"
      ]
     },
     "execution_count": 16,
     "metadata": {},
     "output_type": "execute_result"
    }
   ],
   "source": [
    "np.unique(x_data[0])"
   ]
  },
  {
   "cell_type": "code",
   "execution_count": 18,
   "metadata": {},
   "outputs": [],
   "source": [
    "\n",
    "\n",
    "\n",
    "x = x_data.reshape(16000, 128, 128, 1)\n",
    "x_v = x_valid.reshape(4000, 128, 128, 1)"
   ]
  },
  {
   "cell_type": "code",
   "execution_count": 19,
   "metadata": {},
   "outputs": [
    {
     "name": "stdout",
     "output_type": "stream",
     "text": [
      "Train on 16000 samples, validate on 4000 samples\n",
      "Epoch 1/4\n",
      "16000/16000 [==============================] - 3254s 203ms/step - loss: 1.7120 - acc: 0.5064 - val_loss: 0.1003 - val_acc: 0.9705\n",
      "Epoch 2/4\n",
      "16000/16000 [==============================] - 3044s 190ms/step - loss: 0.0745 - acc: 0.9771 - val_loss: 0.0276 - val_acc: 0.9930\n",
      "Epoch 3/4\n",
      "16000/16000 [==============================] - 3014s 188ms/step - loss: 0.0464 - acc: 0.9899 - val_loss: 2.6759 - val_acc: 0.5055\n",
      "Epoch 4/4\n",
      "16000/16000 [==============================] - 3011s 188ms/step - loss: 0.0596 - acc: 0.9867 - val_loss: 0.0134 - val_acc: 0.9965\n"
     ]
    }
   ],
   "source": [
    "trained_cnn = cnn.fit(x, y_data, batch_size = 64,   epochs = 4,  verbose=1,  validation_data=(x_v, y_valid))"
   ]
  },
  {
   "cell_type": "code",
   "execution_count": null,
   "metadata": {},
   "outputs": [],
   "source": [
    "#print(np.unique(Data_labels))"
   ]
  },
  {
   "cell_type": "code",
   "execution_count": 33,
   "metadata": {},
   "outputs": [
    {
     "data": {
      "text/plain": [
       "['CNN_Model.sav']"
      ]
     },
     "execution_count": 33,
     "metadata": {},
     "output_type": "execute_result"
    }
   ],
   "source": [
    "from sklearn.externals import joblib\n",
    "\n",
    "joblib.dump(cnn,'CNN_Model.joblib')\n",
    "joblib.dump(cnn,'CNN_Model.sav')"
   ]
  },
  {
   "cell_type": "code",
   "execution_count": 21,
   "metadata": {},
   "outputs": [],
   "source": [
    "saved_model=joblib.load('CNN_Model.joblib')"
   ]
  },
  {
   "cell_type": "code",
   "execution_count": 44,
   "metadata": {},
   "outputs": [
    {
     "name": "stdout",
     "output_type": "stream",
     "text": [
      "22\n",
      "22\n"
     ]
    }
   ],
   "source": [
    "print(np.argmax(cnn.predict(x_test[0].reshape(1,128,128,1))))\n",
    "print(np.argmax(y_test[0]))"
   ]
  },
  {
   "cell_type": "code",
   "execution_count": null,
   "metadata": {},
   "outputs": [],
   "source": []
  }
 ],
 "metadata": {
  "kernelspec": {
   "display_name": "Python 3",
   "language": "python",
   "name": "python3"
  },
  "language_info": {
   "codemirror_mode": {
    "name": "ipython",
    "version": 3
   },
   "file_extension": ".py",
   "mimetype": "text/x-python",
   "name": "python",
   "nbconvert_exporter": "python",
   "pygments_lexer": "ipython3",
   "version": "3.6.5"
  }
 },
 "nbformat": 4,
 "nbformat_minor": 2
}
