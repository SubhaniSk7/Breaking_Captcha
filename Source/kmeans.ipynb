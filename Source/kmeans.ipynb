{
 "cells": [
  {
   "cell_type": "code",
   "execution_count": 12,
   "metadata": {},
   "outputs": [],
   "source": [
    "import imageio\n",
    "import glob\n",
    "import numpy as np\n",
    "from sklearn.cluster import KMeans\n",
    "from string import ascii_uppercase\n",
    "from sklearn import preprocessing\n",
    "from collections import Counter"
   ]
  },
  {
   "cell_type": "code",
   "execution_count": 6,
   "metadata": {},
   "outputs": [],
   "source": [
    "def get_dataset():\n",
    "    train_data = []\n",
    "    data_for_labelling = []\n",
    "    labeling_data_label = []\n",
    "    for i in range(26):\n",
    "        count = 0\n",
    "        for im_path in glob.glob(\"Train_data/\" + str(i) + \"/*.jpg\"):\n",
    "            image = imageio.imread(im_path)\n",
    "            image_data = image.ravel()\n",
    "            lis = list(image_data)\n",
    "            if count < 700 :\n",
    "                train_data.append(lis)\n",
    "            elif count < 900:\n",
    "                data_for_labelling.append(lis)\n",
    "                labeling_data_label.append(i)\n",
    "            count += 1\n",
    "    return np.array(train_data), np.array(data_for_labelling), labeling_data_label"
   ]
  },
  {
   "cell_type": "code",
   "execution_count": 7,
   "metadata": {},
   "outputs": [],
   "source": [
    "train_data, data_for_labelling, labeling_data_label = get_dataset()"
   ]
  },
  {
   "cell_type": "code",
   "execution_count": 8,
   "metadata": {},
   "outputs": [
    {
     "name": "stderr",
     "output_type": "stream",
     "text": [
      "/usr/local/lib/python3.5/site-packages/sklearn/utils/validation.py:475: DataConversionWarning: Data with input dtype uint8 was converted to float64 by the scale function.\n",
      "  warnings.warn(msg, DataConversionWarning)\n"
     ]
    }
   ],
   "source": [
    "train_data=preprocessing.scale(train_data)\n",
    "data_for_labelling=preprocessing.scale(data_for_labelling)"
   ]
  },
  {
   "cell_type": "code",
   "execution_count": 9,
   "metadata": {},
   "outputs": [
    {
     "name": "stdout",
     "output_type": "stream",
     "text": [
      "(18200, 16384)\n",
      "(5200, 16384)\n"
     ]
    }
   ],
   "source": [
    "print(train_data.shape)\n",
    "print(data_for_labelling.shape)"
   ]
  },
  {
   "cell_type": "code",
   "execution_count": 10,
   "metadata": {},
   "outputs": [
    {
     "name": "stdout",
     "output_type": "stream",
     "text": [
      "Kmeans start\n"
     ]
    }
   ],
   "source": [
    "print(\"Kmeans start\")\n",
    "kmeans = KMeans(n_clusters = 26, random_state=0,n_jobs=-1)"
   ]
  },
  {
   "cell_type": "code",
   "execution_count": 11,
   "metadata": {},
   "outputs": [
    {
     "data": {
      "text/plain": [
       "KMeans(algorithm='auto', copy_x=True, init='k-means++', max_iter=300,\n",
       "    n_clusters=26, n_init=10, n_jobs=-1, precompute_distances='auto',\n",
       "    random_state=0, tol=0.0001, verbose=0)"
      ]
     },
     "execution_count": 11,
     "metadata": {},
     "output_type": "execute_result"
    }
   ],
   "source": [
    "kmeans.fit(train_data)"
   ]
  },
  {
   "cell_type": "code",
   "execution_count": 32,
   "metadata": {},
   "outputs": [
    {
     "name": "stdout",
     "output_type": "stream",
     "text": [
      "{0: 10, 1: 5, 2: 9, 3: 16, 4: 6, 5: 11, 6: 14, 7: 15, 8: 4, 9: 20, 10: 17, 11: 8, 12: 25, 13: 2, 14: 13, 15: 1, 16: 19, 17: 0, 18: 21, 19: 22, 20: 12, 21: 18, 22: 7, 23: 23, 24: 3, 25: 24}\n"
     ]
    }
   ],
   "source": [
    "label_from_clusterno = dict()\n",
    "remaining_labels = [i for i in range(26)]\n",
    "remaining_clusters = [i for i in range(26)]\n",
    "for i in range(26):\n",
    "    predicted_clusters_for_i = kmeans.predict(data_for_labelling[200*i:200*(i+1)])\n",
    "    predicted_clusters_for_i = Counter(predicted_clusters_for_i)\n",
    "    #print(predicted_clusters_for_i)\n",
    "    most_freq_cluster = predicted_clusters_for_i.most_common(1)[0][0]\n",
    "    while (label_from_clusterno.get(most_freq_cluster) is not None):\n",
    "        predicted_clusters_for_i.pop(most_freq_cluster)\n",
    "        if len(predicted_clusters_for_i) == 0:\n",
    "            break\n",
    "        #print(predicted_clusters_for_i)\n",
    "        most_freq_cluster = predicted_clusters_for_i.most_common(1)[0][0]\n",
    "    #print(most_freq_cluster)\n",
    "    if len(predicted_clusters_for_i) != 0:\n",
    "        label_from_clusterno[most_freq_cluster] = i\n",
    "        remaining_clusters.remove(most_freq_cluster)\n",
    "        remaining_labels.remove(i)\n",
    "\n",
    "for i in range(len(remaining_clusters)):\n",
    "    label_from_clusterno[remaining_clusters[i]] = remaining_labels[i]\n",
    "    \n",
    "print(label_from_clusterno)"
   ]
  },
  {
   "cell_type": "code",
   "execution_count": 37,
   "metadata": {},
   "outputs": [
    {
     "name": "stdout",
     "output_type": "stream",
     "text": [
      "0.20152091254752852\n"
     ]
    }
   ],
   "source": [
    "from sklearn.metrics import accuracy_score\n",
    "test_points = []\n",
    "true_labels = []\n",
    "predicted_labels = []\n",
    "for path in glob.glob(\"./Test1char/*\"):\n",
    "    label = path.split('/')[-1][0]\n",
    "    image = imageio.imread(path + \"/Char0.jpg\")\n",
    "    image_data = image.ravel()\n",
    "    lis = list(image_data)\n",
    "    test_points.append(lis)\n",
    "    true_labels.append(label)\n",
    "    \n",
    "test_points=np.array(test_points)\n",
    "test_points=preprocessing.scale(test_points)\n",
    "predicted_clusters = kmeans.predict(test_points)\n",
    "for predicted_cluster in predicted_clusters:\n",
    "    predicted_label = chr(label_from_clusterno[predicted_cluster]+65)\n",
    "    predicted_labels.append(predicted_label)\n",
    "    \n",
    "print(accuracy_score(true_labels,predicted_labels))"
   ]
  },
  {
   "cell_type": "code",
   "execution_count": null,
   "metadata": {},
   "outputs": [],
   "source": []
  }
 ],
 "metadata": {
  "kernelspec": {
   "display_name": "Python 3",
   "language": "python",
   "name": "python3"
  },
  "language_info": {
   "codemirror_mode": {
    "name": "ipython",
    "version": 3
   },
   "file_extension": ".py",
   "mimetype": "text/x-python",
   "name": "python",
   "nbconvert_exporter": "python",
   "pygments_lexer": "ipython3",
   "version": "3.5.3"
  }
 },
 "nbformat": 4,
 "nbformat_minor": 2
}
