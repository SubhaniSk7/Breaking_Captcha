{
 "cells": [
  {
   "cell_type": "code",
   "execution_count": 2,
   "metadata": {},
   "outputs": [
    {
     "name": "stderr",
     "output_type": "stream",
     "text": [
      "/anaconda3/lib/python3.6/site-packages/ipykernel_launcher.py:29: DeprecationWarning: `imread` is deprecated!\n",
      "`imread` is deprecated in SciPy 1.0.0, and will be removed in 1.2.0.\n",
      "Use ``imageio.imread`` instead.\n"
     ]
    },
    {
     "name": "stdout",
     "output_type": "stream",
     "text": [
      "25000\n",
      "25000\n",
      "25000\n",
      "My_Score are\n",
      "0.996\n"
     ]
    }
   ],
   "source": [
    "from scipy import misc\n",
    "import glob\n",
    "import numpy as np\n",
    "from sklearn import svm\n",
    "from sklearn.model_selection import cross_val_score\n",
    "from sklearn.model_selection import ShuffleSplit\n",
    "from sklearn.model_selection import train_test_split\n",
    "from sklearn.manifold import TSNE\n",
    "import matplotlib.pyplot as plt\n",
    "\n",
    "\n",
    "\n",
    "def normalise(l):\n",
    "    ret = []\n",
    "    c = len(l)\n",
    "    for i in range(c):\n",
    "        for j in range(c):\n",
    "            ret.append(l[i][j])\n",
    "    return np.array(ret)\n",
    "\n",
    "\n",
    "Data_images_list = []\n",
    "Data_labels_list = []\n",
    "\n",
    "\n",
    "for i in range(26):\n",
    "    name = str(i)\n",
    "    for image_path in glob.glob(\"Train_data/\" + name + \"/*.jpg\"):\n",
    "        image = misc.imread(image_path)\n",
    "        Data_images_list.append(list(image))\n",
    "        Data_labels_list.append(i)\n",
    "\n",
    "print(len(Data_labels_list))\n",
    "\n",
    "Data_images = np.array(Data_images_list)\n",
    "Data_labels = np.array(Data_labels_list)\n",
    "\n",
    "SVM_data_list = []\n",
    "SVM_labels_list = []\n",
    "\n",
    "print(len(Data_images))\n",
    "print(len(Data_labels))\n",
    "\n",
    "for i in range(len(Data_images)):\n",
    "    SVM_data_list.append(normalise(Data_images[i]))\n",
    "    SVM_labels_list.append(Data_labels[i])\n",
    "\n",
    "SVM_data = np.array(SVM_data_list)\n",
    "SVM_labels = np.array(SVM_labels_list)\n",
    "\n",
    "SVM_train_data, SVM_test_data, SVM_train_labels, SVM_test_labels = train_test_split(SVM_data, SVM_labels, test_size = 0.2, shuffle = True)\n",
    "\n",
    "\n",
    "My_SVM = svm.SVC(kernel='linear')\n",
    "My_SVM.fit(SVM_train_data,SVM_train_labels)\n",
    "\n",
    "My_Score = My_SVM.score(SVM_test_data, SVM_test_labels)\n",
    "\n",
    "print(\"My_Score are\")\n",
    "print(My_Score)"
   ]
  },
  {
   "cell_type": "code",
   "execution_count": 3,
   "metadata": {},
   "outputs": [
    {
     "data": {
      "text/plain": [
       "['SVM.sav']"
      ]
     },
     "execution_count": 3,
     "metadata": {},
     "output_type": "execute_result"
    }
   ],
   "source": [
    " from sklearn.externals import joblib\n",
    "joblib.dump(My_SVM,'SVM.sav')"
   ]
  },
  {
   "cell_type": "code",
   "execution_count": null,
   "metadata": {},
   "outputs": [],
   "source": [
    "#My_SVM = joblib.load('SVM.sav')"
   ]
  }
 ],
 "metadata": {
  "kernelspec": {
   "display_name": "Python 3",
   "language": "python",
   "name": "python3"
  },
  "language_info": {
   "codemirror_mode": {
    "name": "ipython",
    "version": 3
   },
   "file_extension": ".py",
   "mimetype": "text/x-python",
   "name": "python",
   "nbconvert_exporter": "python",
   "pygments_lexer": "ipython3",
   "version": "3.6.6"
  }
 },
 "nbformat": 4,
 "nbformat_minor": 2
}
