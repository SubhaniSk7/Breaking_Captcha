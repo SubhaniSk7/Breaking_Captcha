{
 "cells": [
  {
   "cell_type": "code",
   "execution_count": 1,
   "metadata": {},
   "outputs": [
    {
     "name": "stderr",
     "output_type": "stream",
     "text": [
      "/home/dhruv/anaconda3/lib/python3.6/site-packages/h5py/__init__.py:36: FutureWarning: Conversion of the second argument of issubdtype from `float` to `np.floating` is deprecated. In future, it will be treated as `np.float64 == np.dtype(float).type`.\n",
      "  from ._conv import register_converters as _register_converters\n",
      "Using Theano backend.\n"
     ]
    }
   ],
   "source": [
    "import os\n",
    "os.environ['KERAS_BACKEND'] = 'theano'\n",
    "import keras\n",
    "\n",
    "from scipy import misc\n",
    "import glob\n",
    "import numpy as np\n",
    "from sklearn.model_selection import train_test_split\n",
    "\n",
    "from keras.models import Sequential,Input,Model\n",
    "from keras.layers import Dense, Dropout, Flatten\n",
    "from keras.layers import Conv2D, MaxPooling2D\n",
    "from keras.layers.advanced_activations import LeakyReLU"
   ]
  },
  {
   "cell_type": "code",
   "execution_count": 3,
   "metadata": {},
   "outputs": [],
   "source": [
    "def format_output(l):\n",
    "    ret = []\n",
    "    for i in range(len(l)):\n",
    "        n = []\n",
    "        for j in range(26):\n",
    "            if j == l[i]:\n",
    "                n.append(1)\n",
    "            else:\n",
    "                n.append(0)\n",
    "        ret.append(np.array(n))\n",
    "    return np.array(ret)"
   ]
  },
  {
   "cell_type": "code",
   "execution_count": 4,
   "metadata": {},
   "outputs": [
    {
     "name": "stdout",
     "output_type": "stream",
     "text": [
      "0\n",
      "(0,)\n"
     ]
    }
   ],
   "source": [
    "Data_images_list = []\n",
    "Data_labels_list = []\n",
    "\n",
    "for i in range(26):\n",
    "    name = str(i)\n",
    "    for image_path in glob.glob(\"/home/dhruv/Desktop/AI/capital/\" + name + \"/*.png\"):\n",
    "        image = misc.imread(image_path)\n",
    "        Data_images_list.append(list(image))\n",
    "        Data_labels_list.append(i)\n",
    "\n",
    "print(len(Data_labels_list))\n",
    "\n",
    "Data_images = np.array(Data_images_list)\n",
    "Data_labels = format_output(Data_labels_list)\n",
    "\n",
    "print(Data_labels.shape)\n",
    "\n",
    "#CNN_data_list = []\n",
    "#CNN_labels_list = []\n",
    "\n",
    "#print(len(Data_images))\n",
    "#print(len(Data_labels))\n",
    "\n",
    "#for i in range(len(Data_images)):\n",
    " #   CNN_data_list.append(normalise(Data_images[i]))\n",
    "  #  CNN_labels_list.append(Data_labels[i])\n",
    "\n",
    "#CNN_data = np.array(CNN_data_list)\n",
    "#CNN_labels = np.array(CNN_labels_list)\n",
    "\n",
    "#CNN_labels.shape\n",
    "#CNN_data.shape"
   ]
  },
  {
   "cell_type": "code",
   "execution_count": 5,
   "metadata": {},
   "outputs": [
    {
     "name": "stdout",
     "output_type": "stream",
     "text": [
      "(0,)\n",
      "(0,)\n",
      "(0,)\n",
      "(0,)\n"
     ]
    }
   ],
   "source": [
    "x_train, x_test, y_train, y_test = train_test_split(Data_images, Data_labels, test_size = 0.2, shuffle = True)\n",
    "\n",
    "print(x_train.shape)\n",
    "print(x_test.shape)\n",
    "print(y_train.shape)\n",
    "print(y_test.shape)"
   ]
  },
  {
   "cell_type": "code",
   "execution_count": 3,
   "metadata": {},
   "outputs": [],
   "source": [
    "cnn = Sequential()\n",
    "\n",
    "cnn.add(Conv2D(40, kernel_size=(15, 15), strides=(1, 1),\n",
    "                 activation='relu',\n",
    "                 input_shape=(128,128,1)))\n",
    "\n",
    "cnn.add(LeakyReLU(alpha=0.1))\n",
    "cnn.add(MaxPooling2D(2, 2))\n",
    "\n",
    "cnn.add(Conv2D(80, kernel_size=(12, 12), strides=(1, 1),\n",
    "                 activation='relu'))\n",
    "#cnn.add(LeakyReLU(alpha=0.1))\n",
    "cnn.add(MaxPooling2D(2, 2))\n",
    "\n",
    "\n",
    "cnn.add(Conv2D(160, kernel_size=(8, 8), strides=(1, 1),\n",
    "                 activation='relu'))\n",
    "#cnn.add(LeakyReLU(alpha=0.1))\n",
    "cnn.add(MaxPooling2D(2, 2))\n",
    "\n",
    "\n",
    "cnn.add(Conv2D(80, kernel_size=(3, 3), strides=(1, 1),\n",
    "                 activation='relu'))\n",
    "#cnn.add(LeakyReLU(alpha=0.1))\n",
    "cnn.add(MaxPooling2D(2, 2))\n",
    "\n",
    "cnn.add(Flatten())\n",
    "\n",
    "cnn.add(Dense(1000, activation='relu'))\n",
    "cnn.add(Dense(100, activation='relu'))\n",
    "\n",
    "cnn.add(Dense(26, activation='softmax'))"
   ]
  },
  {
   "cell_type": "code",
   "execution_count": 4,
   "metadata": {},
   "outputs": [],
   "source": [
    "cnn.compile(loss=keras.losses.categorical_crossentropy,\n",
    "              optimizer=keras.optimizers.SGD(lr=0.01),\n",
    "              metrics=['accuracy'])"
   ]
  },
  {
   "cell_type": "code",
   "execution_count": 5,
   "metadata": {},
   "outputs": [
    {
     "name": "stdout",
     "output_type": "stream",
     "text": [
      "_________________________________________________________________\n",
      "Layer (type)                 Output Shape              Param #   \n",
      "=================================================================\n",
      "conv2d_1 (Conv2D)            (None, 114, 114, 40)      9040      \n",
      "_________________________________________________________________\n",
      "leaky_re_lu_1 (LeakyReLU)    (None, 114, 114, 40)      0         \n",
      "_________________________________________________________________\n",
      "max_pooling2d_1 (MaxPooling2 (None, 57, 57, 40)        0         \n",
      "_________________________________________________________________\n",
      "conv2d_2 (Conv2D)            (None, 46, 46, 80)        460880    \n",
      "_________________________________________________________________\n",
      "max_pooling2d_2 (MaxPooling2 (None, 23, 23, 80)        0         \n",
      "_________________________________________________________________\n",
      "conv2d_3 (Conv2D)            (None, 16, 16, 160)       819360    \n",
      "_________________________________________________________________\n",
      "max_pooling2d_3 (MaxPooling2 (None, 8, 8, 160)         0         \n",
      "_________________________________________________________________\n",
      "conv2d_4 (Conv2D)            (None, 6, 6, 80)          115280    \n",
      "_________________________________________________________________\n",
      "max_pooling2d_4 (MaxPooling2 (None, 3, 3, 80)          0         \n",
      "_________________________________________________________________\n",
      "flatten_1 (Flatten)          (None, 720)               0         \n",
      "_________________________________________________________________\n",
      "dense_1 (Dense)              (None, 1000)              721000    \n",
      "_________________________________________________________________\n",
      "dense_2 (Dense)              (None, 100)               100100    \n",
      "_________________________________________________________________\n",
      "dense_3 (Dense)              (None, 26)                2626      \n",
      "=================================================================\n",
      "Total params: 2,228,286\n",
      "Trainable params: 2,228,286\n",
      "Non-trainable params: 0\n",
      "_________________________________________________________________\n"
     ]
    }
   ],
   "source": [
    "cnn.summary()"
   ]
  },
  {
   "cell_type": "code",
   "execution_count": null,
   "metadata": {},
   "outputs": [],
   "source": [
    "#print((x_train.T).shape)"
   ]
  },
  {
   "cell_type": "code",
   "execution_count": null,
   "metadata": {},
   "outputs": [],
   "source": [
    "#print(x_train.T[:,:,0:1])"
   ]
  },
  {
   "cell_type": "code",
   "execution_count": null,
   "metadata": {},
   "outputs": [],
   "source": [
    "#print(x_train[0])"
   ]
  },
  {
   "cell_type": "code",
   "execution_count": null,
   "metadata": {},
   "outputs": [],
   "source": [
    "#x = x_train.reshape((18652,128,128,1))"
   ]
  },
  {
   "cell_type": "code",
   "execution_count": null,
   "metadata": {},
   "outputs": [],
   "source": [
    "#print(x[0])"
   ]
  },
  {
   "cell_type": "code",
   "execution_count": null,
   "metadata": {},
   "outputs": [],
   "source": [
    "x_data, x_valid , y_data, y_valid = train_test_split(x_train,y_train, test_size = 0.2)\n",
    "x_data = x_data.astype(float)\n",
    "\n",
    "x_valid = x_valid.astype(float)\n",
    "\n",
    "from sklearn.preprocessing import MinMaxScaler\n",
    "scaler = MinMaxScaler()\n",
    "for i in range(len(x_data)):\n",
    "    scaler.fit(x_data[i])\n",
    "    x_data[i] = scaler.transform(x_data[i])\n",
    "\n",
    "for i in range(len(x_valid)):\n",
    "    scaler.fit(x_valid[i])\n",
    "    x_valid[i] = scaler.transform(x_valid[i])\n",
    "\n",
    "print(x_data[0])\n",
    "\n",
    "\n",
    "print(x_data.shape)\n",
    "print(x_valid.shape)\n",
    "print(y_data.shape)\n",
    "print(y_valid.shape)"
   ]
  },
  {
   "cell_type": "code",
   "execution_count": null,
   "metadata": {},
   "outputs": [],
   "source": [
    "np.unique(x_data[0])"
   ]
  },
  {
   "cell_type": "code",
   "execution_count": null,
   "metadata": {},
   "outputs": [],
   "source": [
    "x = x_data.reshape(14921, 128, 128, 1)\n",
    "x_v = x_valid.reshape(3731, 128, 128, 1)"
   ]
  },
  {
   "cell_type": "code",
   "execution_count": null,
   "metadata": {},
   "outputs": [],
   "source": [
    "trained_cnn = cnn.fit(x, y_data, batch_size = 64,   epochs = 20,  verbose=1,  validation_data=(x_v, y_valid))\n",
    "#print(np.unique(Data_labels))"
   ]
  }
 ],
 "metadata": {
  "kernelspec": {
   "display_name": "Python 3",
   "language": "python",
   "name": "python3"
  },
  "language_info": {
   "codemirror_mode": {
    "name": "ipython",
    "version": 3
   },
   "file_extension": ".py",
   "mimetype": "text/x-python",
   "name": "python",
   "nbconvert_exporter": "python",
   "pygments_lexer": "ipython3",
   "version": "3.6.5"
  }
 },
 "nbformat": 4,
 "nbformat_minor": 2
}
